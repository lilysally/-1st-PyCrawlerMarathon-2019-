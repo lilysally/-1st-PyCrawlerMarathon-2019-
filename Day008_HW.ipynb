{
 "cells": [
  {
   "cell_type": "markdown",
   "metadata": {},
   "source": [
    "# 靜態網頁的資料爬蟲策略\n",
    "\n",
    "\n",
    "* 了解靜態網頁的資料爬蟲策略\n",
    "* 認識適用於靜態網頁爬蟲的相關套件工具：Request\n",
    "* 認識適用於靜態網頁爬蟲的相關套件工具：BeatifulSoup"
   ]
  },
  {
   "cell_type": "markdown",
   "metadata": {},
   "source": [
    "## 網頁資料取得： Requests"
   ]
  },
  {
   "cell_type": "code",
   "execution_count": 25,
   "metadata": {},
   "outputs": [],
   "source": [
    "import requests\n",
    "# 引入函式庫\n",
    "r = requests.get('https://github.com/timeline.json')\n",
    "# 想要爬資料的目標網址\n",
    "response = r.text\n",
    "# 模擬發送請求的動作"
   ]
  },
  {
   "cell_type": "code",
   "execution_count": 26,
   "metadata": {},
   "outputs": [
    {
     "name": "stdout",
     "output_type": "stream",
     "text": [
      "{\"message\":\"Hello there, wayfaring stranger. If you’re reading this then you probably didn’t see our blog post a couple of years back announcing that this API would go away: http://git.io/17AROg Fear not, you should be able to get what you need from the shiny new Events API instead.\",\"documentation_url\":\"https://docs.github.com/v3/activity/events/#list-public-events\"}\n"
     ]
    },
    {
     "data": {
      "text/plain": [
       "'{\"message\":\"Hello there, wayfaring stranger. If you’re reading this then you probably didn’t see our blog post a couple of years back announcing that '"
      ]
     },
     "execution_count": 26,
     "metadata": {},
     "output_type": "execute_result"
    }
   ],
   "source": [
    "print(response)\n",
    "response[:150]"
   ]
  },
  {
   "cell_type": "code",
   "execution_count": 18,
   "metadata": {},
   "outputs": [
    {
     "name": "stdout",
     "output_type": "stream",
     "text": [
      "<class 'str'>\n",
      "{\"message\":\"Hello there, wayfaring stranger. If you’re reading this then you probably didn’t see our\n"
     ]
    }
   ],
   "source": [
    "print(type(response))\n",
    "\n",
    "# print(response['message'])\n",
    "print(response[:100])"
   ]
  },
  {
   "cell_type": "code",
   "execution_count": 10,
   "metadata": {},
   "outputs": [
    {
     "name": "stdout",
     "output_type": "stream",
     "text": [
      "<class 'dict'>\n",
      "Hello there, wayfaring stranger. If you’re reading this then you probably didn’t see our blog post a couple of years back announcing that this API would go away: http://git.io/17AROg Fear not, you should be able to get what you need from the shiny new Events API instead.\n"
     ]
    }
   ],
   "source": [
    "import json\n",
    "response = json.loads(response)\n",
    "\n",
    "print(type(response))\n",
    "print(response['message'])"
   ]
  },
  {
   "cell_type": "markdown",
   "metadata": {},
   "source": [
    "## 網頁解析器： BeatifulSoup\n"
   ]
  },
  {
   "cell_type": "code",
   "execution_count": 11,
   "metadata": {},
   "outputs": [
    {
     "name": "stdout",
     "output_type": "stream",
     "text": [
      "\n",
      "<html><head><title>The Dormouse's story</title></head>\n",
      "<body>\n",
      "<p class=\"title\"><b>The Dormouse's story</b></p>\n",
      "<p class=\"story\">Once upon a time there were three little sisters; and their names were\n",
      "<a href=\"http://example.com/elsie\" class=\"sister\" id=\"link1\">Elsie</a>,\n",
      "<a href=\"http://example.com/lacie\" class=\"sister\" id=\"link2\">Lacie</a> and\n",
      "<a href=\"http://example.com/tillie\" class=\"sister\" id=\"link3\">Tillie</a>;\n",
      "and they lived at the bottom of a well.</p>\n",
      "<p class=\"story\">...</p>\n",
      "</body>\n",
      "</html>\n",
      "\n",
      "<class 'str'>\n"
     ]
    }
   ],
   "source": [
    "html_doc = \"\"\"\n",
    "<html><head><title>The Dormouse's story</title></head>\n",
    "<body>\n",
    "<p class=\"title\"><b>The Dormouse's story</b></p>\n",
    "<p class=\"story\">Once upon a time there were three little sisters; and their names were\n",
    "<a href=\"http://example.com/elsie\" class=\"sister\" id=\"link1\">Elsie</a>,\n",
    "<a href=\"http://example.com/lacie\" class=\"sister\" id=\"link2\">Lacie</a> and\n",
    "<a href=\"http://example.com/tillie\" class=\"sister\" id=\"link3\">Tillie</a>;\n",
    "and they lived at the bottom of a well.</p>\n",
    "<p class=\"story\">...</p>\n",
    "</body>\n",
    "</html>\n",
    "\"\"\"\n",
    "\n",
    "print(html_doc)\n",
    "print(type(html_doc))"
   ]
  },
  {
   "cell_type": "code",
   "execution_count": 9,
   "metadata": {},
   "outputs": [
    {
     "name": "stdout",
     "output_type": "stream",
     "text": [
      "<html><head><title>The Dormouse's story</title></head>\n",
      "<body>\n",
      "<p class=\"title\"><b>The Dormouse's story</b></p>\n",
      "<p class=\"story\">Once upon a time there were three little sisters; and their names were\n",
      "<a class=\"sister\" href=\"http://example.com/elsie\" id=\"link1\">Elsie</a>,\n",
      "<a class=\"sister\" href=\"http://example.com/lacie\" id=\"link2\">Lacie</a> and\n",
      "<a class=\"sister\" href=\"http://example.com/tillie\" id=\"link3\">Tillie</a>;\n",
      "and they lived at the bottom of a well.</p>\n",
      "<p class=\"story\">...</p>\n",
      "\n",
      "\n",
      "</body></html>\n",
      "<class 'bs4.BeautifulSoup'>\n"
     ]
    }
   ],
   "source": [
    "from bs4 import BeautifulSoup\n",
    "\n",
    "soup = BeautifulSoup(html_doc, \"html5lib\")\n",
    "print(soup)\n",
    "print(type(soup))"
   ]
  },
  {
   "cell_type": "markdown",
   "metadata": {},
   "source": [
    "## 作業目標\n",
    "\n",
    "利用 Request + BeatifulSoup 爬取下列兩個網站內容並解析：\n",
    "\n",
    "1. Dcard 網址： https://www.dcard.tw/f\n",
    "2. 知乎： https://www.zhihu.com/explore\n",
    "\n",
    "並且回答下面問題：\n",
    "\n",
    "1. Request 取回之後該怎麼取出資料，資料型態是什麼？\n",
    "2. 為什麼要使用 BeatifulSoup 處理？\n",
    "3. 觀察一下知乎回來的資料好像有點怪怪的，該怎麼解決？"
   ]
  },
  {
   "cell_type": "code",
   "execution_count": 21,
   "metadata": {},
   "outputs": [
    {
     "name": "stdout",
     "output_type": "stream",
     "text": [
      "Request 取回之後該怎麼取出資料，資料型態是什麼？ =>\n",
      "Type of r is <class 'requests.models.Response'>\n",
      "Type of r.text is <class 'str'>\n",
      "\n",
      "\n",
      "<!DOCTYPE html>\n",
      "<html>\n",
      "  <head>\n",
      "    <meta\n",
      "      name=\"viewport\"\n",
      "      content=\"width=device-width, initial-scale=1, minimum-scale=1, viewport-fit=cover\" />\n",
      "    <meta charset=\"utf-8\" />\n",
      "    <title>Dcard 需要確認您的連線是安全的</title>\n",
      "    <style>*{box-sizing:border-box}a,body,div,h1,h2,html,p,pre,span{color:#000;margin:0;padding:0}body{background-color:#00324e;font-family:Roboto,Helvetica Neue,Helvetica,Arial,PingFang TC,黑體-繁,Heiti TC,蘋果儷中黑,Apple LiGothic Medium,微軟正黑體,Microsoft JhengHei,sans-serif}@media (max-width:798px){body{background-color:#fff}}.dcard_nav{align-items:center;background-color:#006aa6;display:flex;height:48px}.dcard_logo{height:28px;margin-left:124px;width:74px}@media (max-width:798px){.dcard_logo{margin-left:16px}}h1{font-size:28px;line-height:40px;margin:10px 0}h1,h2{font-weight:500}h2{font-size:24px;line-height:33px;margin:8px 0}p,pre{color:rgba(0,0,0,.75);font-size:14px;font-weight:400;line-height:20px}pre{margin:8px 0;white-space:pre-wrap;white-space:break-spaces;word-break:break-word}main{background-color:#fff;border-radius:4px;display:block;margin:24px 124px;padding:24px}@media (max-width:798px){main{margin:0;padding:0 16px}h1{font-size:24px;line-height:42px}h2{font-size:20px;line-height:33px}}a{background-color:transparent;color:#3397cf;text-decoration:none}:focus{outline:0}.dcard_captcha{align-items:center;display:flex;min-height:140px}@media (max-width:798px){.dcard_captcha{min-height:120px}}.dcard_ray_id_container{background-color:#eee;border-radius:5px;color:#000;display:inline-block;font-family:monospace;font-size:14px;line-height:20px;padding:8px}</style>\n",
      "  \n",
      "</head>\n",
      "\n",
      "  <body>\n",
      "    <nav class=\"dcard_nav\">\n",
      "      <svg\n",
      "        class=\"dcard_logo\"\n",
      "        xmlns=\"http://www.w3.org/2000/svg\"\n",
      "        xmlns:xlink=\"http://www.w3.org/1999/xlink\"\n",
      "        viewBox=\"0 0 723 272\">\n",
      "        <defs>\n",
      "          <path id=\"a\" d=\"M216 270H0V0h216z\" />\n",
      "          <path id=\"c\" d=\"M108.312 207.975v-207h-108v207z\" />\n",
      "        </defs>\n",
      "        <g fill=\"none\" fill-rule=\"evenodd\">\n",
      "          <path\n",
      "            d=\"M146.313 104.458c-12.424 0-22.5 10.072-22.5 22.491 0 12.42 10.075 22.492 22.5 22.492 12.424 0 22.5-10.072 22.5-22.492 0-12.419-10.076-22.491-22.5-22.491\"\n",
      "            fill=\"#fff\" />\n",
      "          <g transform=\"translate(1 1)\">\n",
      "            <mask id=\"b\" fill=\"#fff\">\n",
      "              <use xlink:href=\"#a\" />\n",
      "            </mask>\n",
      "            <path\n",
      "              d=\"M189 162.025c0 2.805-.145 5.572-.423 8.303-2.943 2.088-6.494 3.371-10.378 3.371-1.461 0-2.861-.227-4.224-.554a49.594 49.594 0 0 1-19.755-11.974l-19.107 19.107c11.484 11.407 26.595 19.11 43.42 21.423-13.91 24.617-40.289 41.3-70.533 41.3H27V133.216c55.35-7.376 103.576-37.152 135.409-79.86 7.025 4.872 12.911 10.497 17.028 16.523A80.394 80.394 0 0 1 189 107.972v54.053zM108 0H0v270h108c59.647 0 108-48.349 108-107.975v-54.053C216 48.342 167.661 0 108 0z\"\n",
      "              fill=\"#FFF\"\n",
      "              mask=\"url(#b)\" />\n",
      "          </g>\n",
      "          <path\n",
      "            d=\"M281.2 180.95c0-11.155 6.857-18.004 26.98-18.004 13.413 0 2\n"
     ]
    }
   ],
   "source": [
    "print('Request 取回之後該怎麼取出資料，資料型態是什麼？ =>')\n",
    "\n",
    "url = 'https://www.dcard.tw/f'\n",
    "\n",
    "r = requests.get(url)\n",
    "response = r.text #利用r.text取出資料\n",
    "\n",
    "r.encoding = 'utf-8'\n",
    "\n",
    "print(\"Type of r is\", type(r))\n",
    "print(\"Type of r.text is\", type(r.text))\n",
    "print('\\n')\n",
    "print(r.text[0:3000])"
   ]
  },
  {
   "cell_type": "code",
   "execution_count": 20,
   "metadata": {},
   "outputs": [],
   "source": [
    "import requests\n",
    "from bs4 import BeautifulSoup"
   ]
  },
  {
   "cell_type": "code",
   "execution_count": 22,
   "metadata": {},
   "outputs": [
    {
     "name": "stdout",
     "output_type": "stream",
     "text": [
      "為什麼要使用 BeatifulSoup 處理？處理後的型態是什麼？ => \n",
      "\n",
      "<!DOCTYPE html>\n",
      "\n",
      "<html>\n",
      "<head>\n",
      "<meta content=\"width=device-width, initial-scale=1, minimum-scale=1, viewport-fit=cover\" name=\"viewport\"/>\n",
      "<meta charset=\"utf-8\"/>\n",
      "<title>Dcard 需要確認您的連線是安全的</title>\n",
      "<style>*{box-sizing:border-box}a,body,div,h1,h2,html,p,pre,span{color:#000;margin:0;padding:0}body{background-color:#00324e;font-family:Roboto,Helvetica Neue,Helvetica,Arial,PingFang TC,黑體-繁,Heiti TC,蘋果儷中黑,Apple LiGothic Medium,微軟正黑體,Microsoft JhengHei,sans-serif}@media (max-width:798px){body{background-color:#fff}}.dcard_nav{align-items:center;background-color:#006aa6;display:flex;height:48px}.dcard_logo{height:28px;margin-left:124px;width:74px}@media (max-width:798px){.dcard_logo{margin-left:16px}}h1{font-size:28px;line-height:40px;margin:10px 0}h1,h2{font-weight:500}h2{font-size:24px;line-height:33px;margin:8px 0}p,pre{color:rgba(0,0,0,.75);font-size:14px;font-weight:400;line-height:20px}pre{margin:8px 0;white-space:pre-wrap;white-space:break-spaces;word-break:break-word}main{background-color:#fff;border-radius:4px;display:block;margin:24px 124px;padding:24px}@media (max-width:798px){main{margin:0;padding:0 16px}h1{font-size:24px;line-height:42px}h2{font-size:20px;line-height:33px}}a{background-color:transparent;color:#3397cf;text-decoration:none}:focus{outline:0}.dcard_captcha{align-items:center;display:flex;min-height:140px}@media (max-width:798px){.dcard_captcha{min-height:120px}}.dcard_ray_id_container{background-color:#eee;border-radius:5px;color:#000;display:inline-block;font-family:monospace;font-size:14px;line-height:20px;padding:8px}</style>\n",
      "</head>\n",
      "<body>\n",
      "<nav class=\"dcard_nav\">\n",
      "<svg class=\"dcard_logo\" viewbox=\"0 0 723 272\" xmlns=\"http://www.w3.org/2000/svg\" xmlns:xlink=\"http://www.w3.org/1999/xlink\">\n",
      "<defs>\n",
      "<path d=\"M216 270H0V0h216z\" id=\"a\"></path>\n",
      "<path d=\"M108.312 207.975v-207h-108v207z\" id=\"c\"></path>\n",
      "</defs>\n",
      "<g fill=\"none\" fill-rule=\"evenodd\">\n",
      "<path d=\"M146.313 104.458c-12.424 0-22.5 10.072-22.5 22.491 0 12.42 10.075 22.492 22.5 22.492 12.424 0 22.5-10.072 22.5-22.492 0-12.419-10.076-22.491-22.5-22.491\" fill=\"#fff\"></path>\n",
      "<g transform=\"translate(1 1)\">\n",
      "<mask fill=\"#fff\" id=\"b\">\n",
      "<use xlink:href=\"#a\"></use>\n",
      "</mask>\n",
      "<path d=\"M189 162.025c0 2.805-.145 5.572-.423 8.303-2.943 2.088-6.494 3.371-10.378 3.371-1.461 0-2.861-.227-4.224-.554a49.594 49.594 0 0 1-19.755-11.974l-19.107 19.107c11.484 11.407 26.595 19.11 43.42 21.423-13.91 24.617-40.289 41.3-70.533 41.3H27V133.216c55.35-7.376 103.576-37.152 135.409-79.86 7.025 4.872 12.911 10.497 17.028 16.523A80.394 80.394 0 0 1 189 107.972v54.053zM108 0H0v270h108c59.647 0 108-48.349 108-107.975v-54.053C216 48.342 167.661 0 108 0z\" fill=\"#FFF\" mask=\"url(#b)\"></path>\n",
      "</g>\n",
      "<path d=\"M281.2 180.95c0-11.155 6.857-18.004 26.98-18.004 13.413 0 26.902 0 44.966 9.003v-.004s.143-26.99 0-26.99c-14.745-8.997-35.982-9.01-54.037-9.01-31.476 0-44.89 18.002-44.89 40.5-.022 26.974 0 27.002 0 27.002s-.022-.078 0 27c0 22.5 13.414 40.498 44.89 40.498 18.055 0 39.292-.013 54.037-9.004.143 0 0-26.995 0-26.995v-.005c-18.064 9.004-31.553 9.004-44.967 9.004-20.122 0-26.98-6.843-26.98-18.005V180.95zM461.313 243.947h-36s-15.832.413-15.75-13.5c-.082-13.915 15.998-18.08 51.75-18v31.5zm-18-108c-18.063 0-39.316.014-54.077 9.005-.144 0 0 26.995 0 26.995v.005c18.077-9.006 31.577-9.006 45-9.006 20.137 0 27.077 6.85 27.077 18.004v8.996c-42.98-.058-81 9.001-81 40.5 0 31.5 18 40.501 45 40.501h63v-67.5l-.077-27c0-22.5-13.423-40.5-44.923-40.5zM517.568 158.446v22.5h-.005v90.001h27v-90h-.043v-4.509c0-14.725 44.93-17.992 44.93-17.992s.254-22.499 0-22.499c-58.388 0-71.882 22.5-71.882 22.5\" fill=\"#FFF\"></path>\n",
      "<g transform=\"translate(614 63)\">\n",
      "<mask fill=\"#fff\" id=\"d\">\n",
      "<use xlink:href=\"#c\"></use>\n",
      "</mask>\n",
      "<path d=\"M81.313 180.884h-27s-27 .916-27-26.981c0-27.896-1.328-46.647 10.584-54.924 11.916-8.275 43.416.944 43.416.944v80.96zm0-179.908h-9c8.814 28.555 8.995 74.544 9 76.402-1.63-.527-14.486-4.44-36-4.44-14.978 0-44.857.71-45 44.976 0 0 .018 13.633 0 22.49.03 2.443.053 2.76.072 2.16.048-11.44.048-1.76 0 0-.019 3.916-.041 10.27-.073 20.329.145 49.473 45 44.976 45 44.976h63V.976h-27z\" fill=\"#FFF\" mask=\"url(#d)\"></path>\n",
      "</g>\n",
      "</g>\n",
      "</svg>\n",
      "</nav>\n",
      "<main>\n",
      "<h1>Dcard 需要確認您的連線是安全的</h1>\n",
      "<h2>請稍候，並依據指示點擊下方驗證：</h2>\n",
      "<div class=\"dcard_captcha\"><form action=\"/f?__cf_chl_f_tk=DkiM2piAg06bSdYLia.yV_Maui7cvy..TBFQng0LdBE-1672327779-0-gaNycGzNB1E\" class=\"challenge-form\" enctype=\"application/x-www-form-urlencoded\" id=\"challenge-form\" method=\"POST\">\n",
      "<div id=\"cf-please-wait\">\n",
      "<div id=\"spinner\">\n",
      "<div id=\"cf-bubbles\">\n",
      "<div class=\"bubbles\"></div>\n",
      "<div class=\"bubbles\"></div>\n",
      "<div class=\"bubbles\"></div>\n",
      "</div>\n",
      "</div>\n",
      "<p id=\"cf-spinner-please-wait\">Please stand by, while we are checking your browser...</p>\n",
      "<p id=\"cf-spinner-redirecting\" style=\"display:none\">Redirecting...</p>\n",
      "</div>\n",
      "<input name=\"md\" type=\"hidden\" value=\"1Igt93KVNMt0cCF22ANuO1iPYT2VUc7ShUQ086WzlLc-1672327779-0-ARfUs999OAgr_IrSjb2WPPh-bzbMDv-nn_gAzqyenk71nHQhl6TtM3lJfSvrjwbK5IO3boU3yCAhISE18-UEBGjKBFe3UsQaK-CVTsxGJQ38XSerBc6Wwrrxqwxt9sPmjWKZ-MA7dW8I29Ro2JtON-I83af3Bf2L_F1kvVYPaNBFluIKHAq1cvxzHeQwIgZtlT_ClOSmbRVcqQIx-iu6r5iFoWPQj37f_AmcS-Vm2EVhcxMVtAbq_WyjU8Fhu0Ho9WKAarLQxGy5FfPP6kjiAr-qM7HsbtttlTHPCrx5cc3i2VR4tmYELAEoVz2Q8s8Apa9wOlgau2480wBPHPSHolh-C4E6Gr2H2GBErnHIUCy8KYPcWPWi0yZv1p7wvyAoJk5ng99Oct7faYuJrlJKpm-QlRs8RjWFqOq1Iuj2dZ_rKVeq8En2W60zmN2yhZobfsZihak88Klb4KPm6KmzEZp5oG9MsWNAJmtPuI0TW3pNyi-7Mzu_-WLQoeOS6-b5SNIlL09D8155pegaukuIfsuqAeNAyIflAbqHhbpFOWlfT3106G-ZBWV16-3JlqW3HHwMBT4bkspGZmViHyx5Jjp-Fmmj9W7_7IQ9oxAFJ7LmAB6n4ITowgDwRYPB6CKqAg\"/>\n",
      "<input name=\"r\" type=\"hidden\" value=\"ZbzK0f2UnxAc_L_irVinn8xDjkq2D4IYaofHIG7CIEQ-1672327779-0-AVcdwKpafzsH5OWujxCIIbrbBYYk+Y2klqkp+ijYaDrLSVfNP+2OBThGhlrvL5cstMcaetooNP5jgpRK4qeKIwc2I2yb3AvErn/grdzOtKjsRGGEnYPqqcLDeX8w744G9DSU3hn95SnlH6zbAbElnu1uN9webGPPYeLpTV18obI+9aXO6o+WdysxYtHVjhJJesILnTRRcdY8qzjZIDP0+nclgXnCtA+Z1iFRteA6GDZAJSIdVS1JR67aqFoGRmKzvwdaOkSrpMadfBha3tsZLDJyFRHX8oCDVT8hiLmXjdKGdMAqfOLGXICTitYvmnQWnQegmhjhu0NnG/5BWQ5oYDBH00r8GYwPbdjfCHAYL0uWIClKipM9F+XnqFYM7U1X4JQ39LNgTYrl51zQ6hQdO7jO/UPcF6wQVC98fMYNSxrB0KNHjb5ApUMrx0qy/ID7owxwA8KfEIVMjLBhNFpi3fwJpEpS5HRj0AxbM+xL/PJf3DeyTj0BXqxp9PWH40x8nHjZvwgG/c5irqaKLnq+bZy/EwA02X93ixdk/FT6aZQ99tDllbuEk4rYLAy5TIh600ikEpLn2xDsdawgXlXP5iuV0UvoGPeIiyDjwQq8i4DqoQkLrz+2WiRJ+GffHY1+/39U5uACa0FhI3c1QRuitbVwDroDAbLc5mQ1+09/Yb+eLRwAJfr/0U9aVZk3BZYkOmngDOMrfYjm4sIKpaxHmwvAtijFazStuj4nX4n1/tBMEsEcrIotD4YLrZOYvbQK116HhWhXEZhmLtMR+n7QKrpCfY+D2EXFak4IuWdz2dpRvDX7yuQGPB9qPxfycNe1Qaa311eEcva+lVMsJVCRjwDvar0PMaJ0VCH8eMYxnLtb2CNQPJTSpTPNfYO5JenRoIf+Rtb9V4v94jssLwn+tG4Ba/LgxobqHJ/5jcTvvNSXtaW6xL57m5vkPhBCF8jNpsxNN/kA0d7qmx9gsf6IA3iXhmnyjUN/Q3TVV/wem6dvdHXwhdI9490aAktInCZygRgTpu2GQ1TH1d4ON7UtSpfTdvgNdMBqYCXmuxLMCemjI5M/d7XiYqy2DLfIf6AEQ6dMMNeV4EHhhdo7KOa90rq7yAKlc3ELCpY8BMqvmgfn/9GvMpNjHTE4eymH5vQ8pdEpzIq3beZdRTVxws3vmeAGWReEavA3VB42yHIlk/Jzvedt2cgRVIhud7eHAGW71I3/N37o0DABm7qCiFVtOmmwztY98FQnQwk/KWQf4h3rXUiHUrzWxknp6tlxg+rjSHNE/3O3msGezwnNdN6lhCvAENwKAujClGAhl6HOtLh6DCiNhDoGvPVuvxVvvfnjA5xvjPQ4RNqaI3wIjvcxhvndwfc1GLQX3j5t8qiXZ8j+fGMi7fmVfI9fJV6FNVjODyJ8hyJli+Q6MXj+EtdR3xrndDy6iCEmZEsIk04NsUU2NST49eLuLSvsdQ2Sh6Wnish6SOG/oM9bp0L+IbR5WaTOfdEvPyb9iV8MP/q1BK4gfps9b4KsWsJrvAgGcUyTbFHEp4BkAoxVS/XhVJIpK0/kRddVW1S3faLdM1uunGROXxZT1znThIieZqepD6d+VP3MGH0/kfK0t7kLK+85a3x3MR+WJziyDXCglyqqVr5ydBsJVo87gBRxZwRtNT9Nq/+xfn58x4N22dNktItbNavO3DGj0yeiA81j/Lv5p2Ytt23pLwk6eaJ8b+b46c4gDA/8g5emSnimbDRNsmF63Tcqeeqky7ufIFmEjp5N2AuwOS1p7wqQFXfBOZdZfAIFosSFMfOOG/c2ed0HzUnWH38=\"/>\n",
      "<noscript class=\"cf-captcha-info\" id=\"cf-captcha-bookmark\">\n",
      "<h1 style=\"color:#bd2426;\">Please turn JavaScript on and reload the page.</h1>\n",
      "</noscript>\n",
      "<div class=\"cookie-warning\" id=\"no-cookie-warning\" style=\"display:none\">\n",
      "<p style=\"color:#bd2426;\">Please enable Cookies and reload the page.</p>\n",
      "</div>\n",
      "<div id=\"trk_jschal_js\" style=\"display:none;background-image:url('/cdn-cgi/images/trace/captcha/nojs/transparent.gif?ray=7813928d1e8f6a81')\"></div>\n",
      "</form>\n",
      "<script>\n",
      "    (function(){\n",
      "        window._cf_chl_opt={\n",
      "            cvId: '2',\n",
      "            cType: 'interactive',\n",
      "            cNounce: '39343',\n",
      "            cRay: '7813928d1e8f6a81',\n",
      "            cHash: '69cc70e0dd527ae',\n",
      "            cUPMDTk: \"\\/f?__cf_chl_tk=DkiM2piAg06bSdYLia.yV_Maui7cvy..TBFQng0LdBE-1672327779-0-gaNycGzNB1E\",\n",
      "            cFPWv: 'g',\n",
      "            cTTimeMs: '1000',\n",
      "            cTplV: 1,\n",
      "            cTplB: 'cf',\n",
      "            cRq: {\n",
      "                ru: 'aHR0cHM6Ly93d3cuZGNhcmQudHcvZg==',\n",
      "                ra: 'cHl0aG9uLXJlcXVlc3RzLzIuMjUuMQ==',\n",
      "                rm: 'R0VU',\n",
      "                d: 'h9Y404kvuAExL8b2QmXrt2HZ7r6bTKOBEymxXxQYpo0SAJ+7FU6PT1j5DithUIG1C7D3q4QUqyH/INUIVWtRGs6RIAx0Ya6SdAmEEceWfmTQ7I2ZiPL7wcjtViG7w8NGarBqhUV9NLD3jTkyyBIhnBvqH0JIZg9SCuvDdDCTowOZ61tgrFZ87ueRIuED0PRfq5ceugHqEIuaW0mmdh0e2N4RngprQn6TqYjzPNd12lKtPSIgMFXfKxfJCZTgO/78d4L6s8AX1/SQKB+SvkLtfEWcodjfxA6Gp+1rCpbKemqKEo8nf55VBE8aw8NPqIKd2CZ8Izs33UE8ZFAi5Vr3ePII59Md9VVjZb9boyAv80FfjGPe5cTbhgfNmTMkPIFeCsGWn2CKqkqEb14927x5zxiBDp+aDMPxUn3124jNPWzmX3kG5+ze5FStO80v2aactq8UQQOIi/T94JhBwVStmWuz/KHZnoXpyTKhI+5uREeGChsVKYRI+huradajVG1mnqgElUtT/a2kome1e9qMg1TcLndFNjQ0yfdScUhH8fgEkz3QmqVUEOQ/5odzAsrXW6/TsPkYZL3wLS57ls4C4jEC52u7CGpIpjG8i0BLhoZPAtnsNCxIrVmgZeG33A3LYUTgtdrNIaqGrEkKLzTjgw==',\n",
      "                t: 'MTY3MjMyNzc3OS4zODkwMDA=',\n",
      "                m: 'EmH8WV7IpqvMLp77u3IU/PaHiiexvYqrIylnei+qDqQ=',\n",
      "                i1: 'PxVE+7cRFBhZJcE6Mds3sw==',\n",
      "                i2: 'YxYEZeC9UcC9kD3O13ldNA==',\n",
      "                zh: 'Ok+lSPYEdALB3ZANdgwyVRP4veQIRuHDtSrk9j6k5PM=',\n",
      "                uh: '5GU+jYv2xJ+bCaE/ARmi/DORbiS/v56CW7E0TH4XWQk=',\n",
      "                hh: 'zRzOAigP6xcxnKf5snryJLVJgndZSARNtnIbgQqzl/Q=',\n",
      "            }\n",
      "        };\n",
      "        var trkjs = document.createElement('img');\n",
      "        trkjs.setAttribute('src', '/cdn-cgi/images/trace/captcha/js/transparent.gif?ray=7813928d1e8f6a81');\n",
      "        trkjs.setAttribute('style', 'display: none');\n",
      "        document.body.appendChild(trkjs);\n",
      "        var cpo = document.createElement('script');\n",
      "        cpo.src = '/cdn-cgi/challenge-platform/h/g/orchestrate/captcha/v1?ray=7813928d1e8f6a81';\n",
      "        window._cf_chl_opt.cOgUHash = location.hash === '' && location.href.indexOf('#') !== -1 ? '#' : location.hash;\n",
      "        window._cf_chl_opt.cOgUQuery = location.search === '' && location.href.slice(0, -window._cf_chl_opt.cOgUHash.length).indexOf('?') !== -1 ? '?' : location.search;\n",
      "        if (window.history && window.history.replaceState) {\n",
      "            var ogU = location.pathname + window._cf_chl_opt.cOgUQuery + window._cf_chl_opt.cOgUHash;\n",
      "            history.replaceState(null, null, \"\\/f?__cf_chl_rt_tk=DkiM2piAg06bSdYLia.yV_Maui7cvy..TBFQng0LdBE-1672327779-0-gaNycGzNB1E\" + window._cf_chl_opt.cOgUHash);\n",
      "            cpo.onload = function() {\n",
      "                history.replaceState(null, null, ogU);\n",
      "            };\n",
      "        }\n",
      "        document.getElementsByTagName('head')[0].appendChild(cpo);\n",
      "    }());\n",
      "</script>\n",
      "</div>\n",
      "<hr/>\n",
      "<pre>Dcard 在某些情況下會需要驗證請求是真實的人類，而非機器人。\n",
      "\n",
      "如果您符合以下行為，這可能是正常的現象：\n",
      "1. 您操作的頻率過快\n",
      "2. 您的瀏覽器版本過老舊或安裝的擴充程式異常\n",
      "3. 您使用公共網路或受監控的網路環境\n",
      "4. 您使用 VPN 或 Proxy 服務\n",
      "5. 您使用的網路曾經有異常行為</pre>\n",
      "<div class=\"dcard_ray_id_container\">7813928d1e8f6a81-2001:b011:b800:376f:cd4e:e88b:b3ea:de5a</div>\n",
      "</main>\n",
      "</body>\n",
      "</html>\n",
      "\n",
      "<class 'bs4.BeautifulSoup'>\n"
     ]
    }
   ],
   "source": [
    "print('為什麼要使用 BeatifulSoup 處理？處理後的型態是什麼？ => \\n')\n",
    "\n",
    "from bs4 import BeautifulSoup\n",
    "\n",
    "soup = BeautifulSoup(response, \"html.parser\")\n",
    "print(soup)\n",
    "print(type(soup))\n",
    "\n",
    "# 用BeatifulSoup中的html解析後，可以更簡單的從中抽出元素，型態是class"
   ]
  },
  {
   "cell_type": "code",
   "execution_count": 23,
   "metadata": {},
   "outputs": [
    {
     "name": "stdout",
     "output_type": "stream",
     "text": [
      "<!doctype html>\n",
      "<html lang=\"zh\" data-hairline=\"true\" class=\"itcauecng\" data-theme=\"light\"><head><meta charSet=\"utf-8\"/><title data-rh=\"true\">发现 - 知乎</title><meta name=\"viewport\" content=\"width=device-width,initial-scale=1,maximum-scale=1\"/><meta name=\"renderer\" content=\"webkit\"/><meta name=\"force-rendering\" content=\"webkit\"/><meta http-equiv=\"X-UA-Compatible\" content=\"IE=edge,chrome=1\"/><meta name=\"google-site-verification\" content=\"FTeR0c8arOPKh8c5DYh_9uu98_zJbaWw53J-Sch9MTg\"/><meta name=\"description\" property=\"og:description\" content=\"知乎，中文互联网高质量的问答社区和创作者聚集的原创内容平台，于 2011 年 1 月正式上线，以「让人们更好的分享\n"
     ]
    }
   ],
   "source": [
    "url = 'https://www.zhihu.com/explore'\n",
    "r = requests.get(url, 'utf-8')\n",
    "# r.encoding = 'utf-8'\n",
    "\n",
    "print(r.text[0:600])"
   ]
  },
  {
   "cell_type": "code",
   "execution_count": null,
   "metadata": {},
   "outputs": [],
   "source": []
  },
  {
   "cell_type": "markdown",
   "metadata": {},
   "source": [
    "# 3. 觀察一下知乎回來的資料好像有點怪怪的，該怎麼解決？"
   ]
  },
  {
   "cell_type": "code",
   "execution_count": 24,
   "metadata": {},
   "outputs": [
    {
     "name": "stdout",
     "output_type": "stream",
     "text": [
      "<!doctype html>\n",
      "<html lang=\"zh\" data-hairline=\"true\" class=\"itcauecng\" data-theme=\"light\"><head><meta charSet=\"utf-8\"/><title data-rh=\"true\">发现 - 知乎</title><meta name=\"viewport\" content=\"width=device-width,initial-scale=1,maximum-scale=1\"/><meta name=\"renderer\" content=\"webkit\"/><meta name=\"force-rendering\" content=\"webkit\"/><meta http-equiv=\"X-UA-Compatible\" content=\"IE=edge,chrome=1\"/><meta name=\"google-site-verification\" content=\"FTeR0c8arOPKh8c5DYh_9uu98_zJbaWw53J-Sch9MTg\"/><meta name=\"description\" property=\"og:description\" content=\"知乎，中文互联网高质量的问答社区和创作者聚集的原创内容平台，于 2011 年 1 月正式上线，以「让人们更好的分享\n"
     ]
    }
   ],
   "source": [
    "#加上header，騙過知乎即可\n",
    "\n",
    "import requests\n",
    "url = 'https://www.zhihu.com/explore'\n",
    "\n",
    "headers = {'user-agent': 'my-app/0.0.1'}\n",
    "r = requests.get(url, 'utf-8', headers=headers)\n",
    "\n",
    "# r.encoding = 'utf-8'\n",
    "print(r.text[0:600])"
   ]
  },
  {
   "cell_type": "code",
   "execution_count": null,
   "metadata": {},
   "outputs": [],
   "source": []
  }
 ],
 "metadata": {
  "kernelspec": {
   "display_name": "Python 3",
   "language": "python",
   "name": "python3"
  },
  "language_info": {
   "codemirror_mode": {
    "name": "ipython",
    "version": 3
   },
   "file_extension": ".py",
   "mimetype": "text/x-python",
   "name": "python",
   "nbconvert_exporter": "python",
   "pygments_lexer": "ipython3",
   "version": "3.8.8"
  }
 },
 "nbformat": 4,
 "nbformat_minor": 2
}
